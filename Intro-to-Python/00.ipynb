{
 "cells": [
  {
   "cell_type": "markdown",
   "id": "9d064e4c-efe9-42ac-8d32-ac393abfc300",
   "metadata": {},
   "source": [
    "# Hello world.\n",
    "\n",
    "Welcome to one of many existing python crash courses!"
   ]
  },
  {
   "cell_type": "code",
   "execution_count": 1,
   "id": "8ec7a64a-99d9-4de7-b763-c16b9c6ba21d",
   "metadata": {},
   "outputs": [],
   "source": [
    "# This is a single-line comment. Use a hash for this!"
   ]
  },
  {
   "cell_type": "code",
   "execution_count": 2,
   "id": "5766ff8d-2933-4bc9-95b2-6ec9a5eb7bc8",
   "metadata": {},
   "outputs": [
    {
     "data": {
      "text/plain": [
       "'\\nUse 3 quotation marks to create a\\nmulti-line\\ncomment!\\n'"
      ]
     },
     "execution_count": 2,
     "metadata": {},
     "output_type": "execute_result"
    }
   ],
   "source": [
    "'''\n",
    "Use 3 quotation marks to create a\n",
    "multi-line\n",
    "comment!\n",
    "'''"
   ]
  },
  {
   "cell_type": "code",
   "execution_count": 5,
   "id": "fdcbccec-a1b6-4ee7-b75e-6593cd2bf022",
   "metadata": {},
   "outputs": [
    {
     "data": {
      "text/plain": [
       "'It can be done using single or double quotation marks,\\nand you can start and end on the same line\\nthat that quotations are.'"
      ]
     },
     "execution_count": 5,
     "metadata": {},
     "output_type": "execute_result"
    }
   ],
   "source": [
    "\"\"\"It can be done using single or double quotation marks,\n",
    "and you can start and end on the same line\n",
    "that that quotations are.\"\"\""
   ]
  },
  {
   "cell_type": "code",
   "execution_count": 6,
   "id": "0c339899-60f7-4867-94e6-5d77b8c8e535",
   "metadata": {},
   "outputs": [
    {
     "name": "stdout",
     "output_type": "stream",
     "text": [
      "This is a statement!\n"
     ]
    }
   ],
   "source": [
    "print(\"This is a statement!\")"
   ]
  },
  {
   "cell_type": "code",
   "execution_count": 9,
   "id": "1f3fb222-0670-45fe-91af-389d9c0e7a83",
   "metadata": {},
   "outputs": [
    {
     "name": "stdout",
     "output_type": "stream",
     "text": [
      "24\n"
     ]
    }
   ],
   "source": [
    "variable = 24\n",
    "print(variable)"
   ]
  },
  {
   "cell_type": "code",
   "execution_count": 10,
   "id": "d109d5a0-6bc7-421e-990e-7a88b5e79326",
   "metadata": {},
   "outputs": [],
   "source": [
    "variable = 24\n",
    "variable_2 = \"This is text!\"\n",
    "variable_3 = 'This is also text. Quotations are style.'\n",
    "variable_4 = 45.7\n",
    "variable_5 = False\n",
    "variable_6 = None"
   ]
  },
  {
   "cell_type": "code",
   "execution_count": 13,
   "id": "c4898c93-c4be-40ea-a954-f3e7a730bfd5",
   "metadata": {},
   "outputs": [
    {
     "data": {
      "text/plain": [
       "int"
      ]
     },
     "execution_count": 13,
     "metadata": {},
     "output_type": "execute_result"
    }
   ],
   "source": [
    "type(variable)"
   ]
  },
  {
   "cell_type": "code",
   "execution_count": 14,
   "id": "a0d84bb1-6cbf-4eb2-882b-3cd075825d41",
   "metadata": {},
   "outputs": [
    {
     "data": {
      "text/plain": [
       "str"
      ]
     },
     "execution_count": 14,
     "metadata": {},
     "output_type": "execute_result"
    }
   ],
   "source": [
    "type(variable_2)"
   ]
  },
  {
   "cell_type": "code",
   "execution_count": 15,
   "id": "121f1083-fad9-4a3c-9ad5-91e4bbb102fe",
   "metadata": {},
   "outputs": [
    {
     "data": {
      "text/plain": [
       "float"
      ]
     },
     "execution_count": 15,
     "metadata": {},
     "output_type": "execute_result"
    }
   ],
   "source": [
    "type(variable_4)"
   ]
  },
  {
   "cell_type": "code",
   "execution_count": 16,
   "id": "533020a1-d153-45a7-bd72-1d7139048ab8",
   "metadata": {},
   "outputs": [
    {
     "data": {
      "text/plain": [
       "bool"
      ]
     },
     "execution_count": 16,
     "metadata": {},
     "output_type": "execute_result"
    }
   ],
   "source": [
    "type(variable_5)"
   ]
  },
  {
   "cell_type": "code",
   "execution_count": 17,
   "id": "ce85290f-e972-4641-b7bc-aea60cb8564d",
   "metadata": {},
   "outputs": [
    {
     "data": {
      "text/plain": [
       "NoneType"
      ]
     },
     "execution_count": 17,
     "metadata": {},
     "output_type": "execute_result"
    }
   ],
   "source": [
    "type(variable_6)"
   ]
  },
  {
   "cell_type": "code",
   "execution_count": 19,
   "id": "cfa8dff9-e947-4800-90b2-35f35a94c3d6",
   "metadata": {},
   "outputs": [],
   "source": [
    "x = \"This string\"\n",
    "# is the same as\n",
    "x = 'this other string.'\n",
    "# And...\n",
    "x = \"\"\"This string\"\"\"\n",
    "# is also the same as\n",
    "x = '''all the other strings!'''"
   ]
  },
  {
   "cell_type": "code",
   "execution_count": 20,
   "id": "66b0732c-a4d9-41f0-9356-929701b7811b",
   "metadata": {},
   "outputs": [
    {
     "name": "stdout",
     "output_type": "stream",
     "text": [
      "all the other strings!\n"
     ]
    },
    {
     "data": {
      "text/plain": [
       "str"
      ]
     },
     "execution_count": 20,
     "metadata": {},
     "output_type": "execute_result"
    }
   ],
   "source": [
    "print(x)\n",
    "type(x)"
   ]
  },
  {
   "cell_type": "code",
   "execution_count": 23,
   "id": "46ccd6a1-aaf7-4f76-9049-e5591c641f7b",
   "metadata": {},
   "outputs": [
    {
     "name": "stdout",
     "output_type": "stream",
     "text": [
      "If put in parentheses, this can also be a multi-line string! You just have to use single quotation marks on each line, andbe careful about spaces between lines.\n"
     ]
    }
   ],
   "source": [
    "x = (\"If put in parentheses, \"\n",
    "     \"this can also be a multi-line \" \n",
    "     \"string! You just have to use single \"\n",
    "     \"quotation marks on each line, and\" \n",
    "     \"be careful about spaces between lines.\")\n",
    "print(x)"
   ]
  },
  {
   "cell_type": "code",
   "execution_count": 55,
   "id": "e2a66495-c2ee-4b3d-8c5a-f733eda11120",
   "metadata": {},
   "outputs": [
    {
     "data": {
      "text/plain": [
       "int"
      ]
     },
     "execution_count": 55,
     "metadata": {},
     "output_type": "execute_result"
    }
   ],
   "source": [
    "x = 13\n",
    "type(x)"
   ]
  },
  {
   "cell_type": "code",
   "execution_count": 60,
   "id": "932720e3-981c-447a-b632-197971db316b",
   "metadata": {},
   "outputs": [
    {
     "data": {
      "text/plain": [
       "float"
      ]
     },
     "execution_count": 60,
     "metadata": {},
     "output_type": "execute_result"
    }
   ],
   "source": [
    "y = 4.6\n",
    "type(y)"
   ]
  },
  {
   "cell_type": "code",
   "execution_count": 57,
   "id": "c72ca4d2-1376-4eda-9427-f6784e4fdad7",
   "metadata": {},
   "outputs": [
    {
     "data": {
      "text/plain": [
       "5"
      ]
     },
     "execution_count": 57,
     "metadata": {},
     "output_type": "execute_result"
    }
   ],
   "source": [
    "round(y)"
   ]
  },
  {
   "cell_type": "code",
   "execution_count": 58,
   "id": "48d437da-5609-4c91-a151-4fe835f0d5a7",
   "metadata": {},
   "outputs": [
    {
     "data": {
      "text/plain": [
       "4"
      ]
     },
     "execution_count": 58,
     "metadata": {},
     "output_type": "execute_result"
    }
   ],
   "source": [
    "z = 4.5\n",
    "round(z)"
   ]
  },
  {
   "cell_type": "code",
   "execution_count": 59,
   "id": "64791ee9-edf8-4954-948c-6c729c40f3dd",
   "metadata": {},
   "outputs": [
    {
     "data": {
      "text/plain": [
       "int"
      ]
     },
     "execution_count": 59,
     "metadata": {},
     "output_type": "execute_result"
    }
   ],
   "source": [
    "test = round(z)\n",
    "type(test)"
   ]
  },
  {
   "cell_type": "code",
   "execution_count": 70,
   "id": "356414ff-b89f-4ecb-9c1a-3d7f11e5b433",
   "metadata": {},
   "outputs": [
    {
     "name": "stdout",
     "output_type": "stream",
     "text": [
      "['This is a list', 'that contains', 'both strings', 'and numbers: ', 234, 34.56]\n"
     ]
    },
    {
     "data": {
      "text/plain": [
       "list"
      ]
     },
     "execution_count": 70,
     "metadata": {},
     "output_type": "execute_result"
    }
   ],
   "source": [
    "list_1 = [\"This is a list\", \"that contains\" , \"both strings\", \"and numbers: \", 234, 34.56]\n",
    "print(list_1)\n",
    "type(list_1)"
   ]
  },
  {
   "cell_type": "code",
   "execution_count": 69,
   "id": "8c5e6850-38ba-4618-b345-8366fc403d4c",
   "metadata": {},
   "outputs": [
    {
     "name": "stdout",
     "output_type": "stream",
     "text": [
      "('This is a tuple', 'that contains', 'both strings', 'and numbers: ', 234, 34.56)\n"
     ]
    },
    {
     "data": {
      "text/plain": [
       "tuple"
      ]
     },
     "execution_count": 69,
     "metadata": {},
     "output_type": "execute_result"
    }
   ],
   "source": [
    "tuple_1 = (\"This is a tuple\", \"that contains\" , \"both strings\", \"and numbers: \", 234, 34.56)\n",
    "print(tuple_1)\n",
    "type(tuple_1)"
   ]
  },
  {
   "cell_type": "code",
   "execution_count": 77,
   "id": "c033b9a1-933b-4552-9595-5e186a88746b",
   "metadata": {},
   "outputs": [
    {
     "data": {
      "text/plain": [
       "'This is a list'"
      ]
     },
     "execution_count": 77,
     "metadata": {},
     "output_type": "execute_result"
    }
   ],
   "source": [
    "list_1[0]"
   ]
  },
  {
   "cell_type": "code",
   "execution_count": 78,
   "id": "10b41d19-06c7-48e5-8d21-662a55c5cc33",
   "metadata": {},
   "outputs": [
    {
     "data": {
      "text/plain": [
       "34.56"
      ]
     },
     "execution_count": 78,
     "metadata": {},
     "output_type": "execute_result"
    }
   ],
   "source": [
    "list_1[5]"
   ]
  },
  {
   "cell_type": "code",
   "execution_count": 80,
   "id": "827171ef-db1c-4b4f-82b7-01b951dfaf6f",
   "metadata": {},
   "outputs": [
    {
     "name": "stdout",
     "output_type": "stream",
     "text": [
      "['This is a list', 'that contains', 'both strings', 'and numbers: ', 234, 67]\n"
     ]
    }
   ],
   "source": [
    "list_1[5] = 67\n",
    "print(list_1)"
   ]
  },
  {
   "cell_type": "code",
   "execution_count": 81,
   "id": "cccaf5ef-d219-4c3f-8b13-544f8f2a3c4b",
   "metadata": {},
   "outputs": [
    {
     "ename": "TypeError",
     "evalue": "'tuple' object does not support item assignment",
     "output_type": "error",
     "traceback": [
      "\u001b[0;31m---------------------------------------------------------------------------\u001b[0m",
      "\u001b[0;31mTypeError\u001b[0m                                 Traceback (most recent call last)",
      "\u001b[0;32m<ipython-input-81-58b43b31761f>\u001b[0m in \u001b[0;36m<module>\u001b[0;34m\u001b[0m\n\u001b[0;32m----> 1\u001b[0;31m \u001b[0mtuple_1\u001b[0m\u001b[0;34m[\u001b[0m\u001b[0;36m5\u001b[0m\u001b[0;34m]\u001b[0m \u001b[0;34m=\u001b[0m \u001b[0;36m67\u001b[0m\u001b[0;34m\u001b[0m\u001b[0;34m\u001b[0m\u001b[0m\n\u001b[0m",
      "\u001b[0;31mTypeError\u001b[0m: 'tuple' object does not support item assignment"
     ]
    }
   ],
   "source": [
    "tuple_1[5] = 67"
   ]
  },
  {
   "cell_type": "code",
   "execution_count": 90,
   "id": "12809326-15d1-4b76-a796-48c9bef29ba8",
   "metadata": {},
   "outputs": [],
   "source": [
    "this_dict = {\n",
    "  \"name\": \"Jupyter\",\n",
    "  \"style\": \"Lab\",\n",
    "  \"version\": 3.3\n",
    "}"
   ]
  },
  {
   "cell_type": "code",
   "execution_count": 91,
   "id": "a0b50247-59b1-4335-a4ca-4c14ec66ec71",
   "metadata": {},
   "outputs": [
    {
     "data": {
      "text/plain": [
       "'Jupyter'"
      ]
     },
     "execution_count": 91,
     "metadata": {},
     "output_type": "execute_result"
    }
   ],
   "source": [
    "this_dict[\"name\"]"
   ]
  },
  {
   "cell_type": "code",
   "execution_count": 85,
   "id": "363ab036-398f-4c1b-b796-848751582e0a",
   "metadata": {},
   "outputs": [],
   "source": [
    "# You can create empty objects\n",
    "empty_str = \"\"\n",
    "empty_int = int()\n",
    "empty_float = float()\n",
    "empty_list = []\n",
    "empty_tuple = ()\n",
    "empty_dict = {}"
   ]
  },
  {
   "cell_type": "code",
   "execution_count": 89,
   "id": "da44f016-80f1-4097-8b22-e187bebac054",
   "metadata": {},
   "outputs": [
    {
     "name": "stdout",
     "output_type": "stream",
     "text": [
      "<class 'str'> <class 'int'> <class 'float'> <class 'list'> <class 'tuple'> <class 'dict'>\n"
     ]
    }
   ],
   "source": [
    "print(\n",
    "    type(empty_str), type(empty_int),\n",
    "    type(empty_float), type(empty_list),\n",
    "    type(empty_tuple), type(empty_dict)\n",
    ")"
   ]
  },
  {
   "cell_type": "code",
   "execution_count": null,
   "id": "69f21209-d411-4a9a-b28f-786d2bb2a052",
   "metadata": {},
   "outputs": [],
   "source": []
  }
 ],
 "metadata": {
  "kernelspec": {
   "display_name": "Python 3",
   "language": "python",
   "name": "python3"
  },
  "language_info": {
   "codemirror_mode": {
    "name": "ipython",
    "version": 3
   },
   "file_extension": ".py",
   "mimetype": "text/x-python",
   "name": "python",
   "nbconvert_exporter": "python",
   "pygments_lexer": "ipython3",
   "version": "3.8.8"
  }
 },
 "nbformat": 4,
 "nbformat_minor": 5
}
